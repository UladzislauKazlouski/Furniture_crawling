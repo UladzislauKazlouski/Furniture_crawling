import os
import pandas as pd
import json
import torch
from transformers import BertTokenizerFast, BertForTokenClassification
from flask import Flask, render_template_string, request
from IPython.display import HTML
import threading
import re
import nest_asyncio

# Apply nest_asyncio to allow asynchronous operations in Jupyter notebooks
nest_asyncio.apply()

# Load the fine-tuned model and tokenizer
model_path = './furniture_ner_model'  # Assume this is downloaded separately
tokenizer = BertTokenizerFast.from_pretrained(model_path)
model = BertForTokenClassification.from_pretrained(model_path)
model.eval()

# Define the label map
label_map = {0: "O", 1: "B-PRODUCT", 2: "I-PRODUCT"}

# Load the cleaned furniture products data
with open('cleaned_furniture_products.json', 'r') as f:
    product_data = json.load(f)

def normalize_url(url: str) -> str:
    """
    Normalize a URL by removing protocol, 'www', and trailing slash.

    Args:
        url (str): The URL to normalize.

    Returns:
        str: The normalized URL.
    """
    # Remove protocol (http:// or https://)
    url = re.sub(r'^https?://', '', url)
    # Remove www. if present
    url = re.sub(r'^www\.', '', url)
    # Remove trailing slash
    url = url.rstrip('/')
    return url

# HTML template as a string
html_template = """
<!DOCTYPE html>
<html lang="en">
<head>
    <meta charset="UTF-8">
    <meta name="viewport" content="width=device-width, initial-scale=1.0">
    <title>Furniture Product Search</title>
    <style>
        body {
            font-family: Arial, sans-serif;
            max-width: 800px;
            margin: 0 auto;
            padding: 20px;
        }
        h1 {
            text-align: center;
        }
        form {
            display: flex;
            margin-bottom: 20px;
        }
        input[type="text"] {
            flex-grow: 1;
            padding: 10px;
            font-size: 16px;
        }
        input[type="submit"] {
            padding: 10px 20px;
            font-size: 16px;
            background-color: #4CAF50;
            color: white;
            border: none;
            cursor: pointer;
        }
        ul {
            list-style-type: none;
            padding: 0;
        }
        li {
            background-color: #f1f1f1;
            margin-bottom: 10px;
            padding: 10px;
            border-radius: 5px;
        }
    </style>
</head>
<body>
    <h1>Furniture Product Search</h1>
    <form method="POST">
        <input type="text" name="search_url" placeholder="Enter website URL" value="{{ search_url }}" required>
        <input type="submit" value="Search">
    </form>
    {% if products %}
        <h2>Products found for: {{ search_url }}</h2>
        <ul>
            {% for product in products %}
                <li>{{ product }}</li>
            {% endfor %}
        </ul>
    {% elif search_url %}
        <p>No products found for the given URL.</p>
    {% endif %}
</body>
</html>
"""

app = Flask(__name__)

@app.route('/', methods=['GET', 'POST'])
def index():
    """
    Handle GET and POST requests for the main page.

    Returns:
        str: Rendered HTML template with search results.
    """
    products = []
    search_url = ''
    if request.method == 'POST':
        search_url = request.form['search_url']
        normalized_url = normalize_url(search_url)

        for url, prods in product_data.items():
            if normalize_url(url) == normalized_url:
                products = prods
                break

    return render_template_string(html_template, products=products, search_url=search_url)

def run_flask():
    app.run(port=8080)

# Start Flask in a separate thread
threading.Thread(target=run_flask).start()

# Display a link to the Flask app in HTML
display(HTML('<a href="http://127.0.0.1:8080" target="_blank">Click here to open the Flask app</a>'))
